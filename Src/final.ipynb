{
 "cells": [
  {
   "cell_type": "code",
   "execution_count": 1,
   "metadata": {},
   "outputs": [
    {
     "name": "stdout",
     "output_type": "stream",
     "text": [
      "latitude is :- 16.7469536 \n",
      "longtitude is:- 77.1327594\n"
     ]
    }
   ],
   "source": [
    "from geopy.geocoders import Nominatim\n",
    "geolocator = Nominatim(user_agent=\"my_user_agent\")\n",
    "city =\"Yadgiri\"\n",
    "country =\"India\"\n",
    "loc = geolocator.geocode(\"Yadgiri\"+','+ country)\n",
    "print(\"latitude is :-\" ,loc.latitude,\"\\nlongtitude is:-\" ,loc.longitude)"
   ]
  },
  {
   "cell_type": "code",
   "execution_count": 2,
   "metadata": {},
   "outputs": [],
   "source": [
    "import xarray as xr\n",
    "import numpy as np\n",
    "import scipy as sp"
   ]
  },
  {
   "cell_type": "code",
   "execution_count": 28,
   "metadata": {},
   "outputs": [],
   "source": [
    "Data_rain=xr.open_dataset(\"H:/AgroMastermind/rain.nc\")"
   ]
  },
  {
   "cell_type": "code",
   "execution_count": 29,
   "metadata": {},
   "outputs": [],
   "source": [
    "Data_rain_monthly=Data_rain.resample(datetime='M').mean(dim='datetime')"
   ]
  },
  {
   "cell_type": "code",
   "execution_count": 30,
   "metadata": {},
   "outputs": [],
   "source": [
    "Data_rain_monthly_avg=Data_rain_monthly.groupby('datetime.month').mean()"
   ]
  },
  {
   "cell_type": "code",
   "execution_count": 34,
   "metadata": {},
   "outputs": [],
   "source": [
    "Data_rain_monthly_avg.precip.sel(lat=np.arange(10,20),lon=np.arange(70,80),method='nearest')\n",
    "Data_rain_monthly_avg.to_netcdf(\"Rainy.nc\")"
   ]
  },
  {
   "cell_type": "code",
   "execution_count": 36,
   "metadata": {},
   "outputs": [],
   "source": [
    "Data_temp=xr.open_dataset(\"H:/AgroMastermind/1951-2013-Merged_Temp.nc\")"
   ]
  },
  {
   "cell_type": "code",
   "execution_count": 37,
   "metadata": {},
   "outputs": [],
   "source": [
    "Data_temp_monthly=Data_temp.resample(time='M').mean(dim='time')"
   ]
  },
  {
   "cell_type": "code",
   "execution_count": 38,
   "metadata": {},
   "outputs": [],
   "source": [
    "Data_temp_monthly_avg=Data_temp_monthly.groupby('time.month').mean()"
   ]
  },
  {
   "cell_type": "code",
   "execution_count": 39,
   "metadata": {},
   "outputs": [],
   "source": [
    "Data_temp_monthly_avg.temp.sel(lat=np.arange(10,20),lon=np.arange(70,80),method='nearest')\n",
    "Data_temp_monthly_avg.to_netcdf(\"Temp.nc\")"
   ]
  },
  {
   "cell_type": "code",
   "execution_count": 3,
   "metadata": {},
   "outputs": [
    {
     "name": "stderr",
     "output_type": "stream",
     "text": [
      "C:\\Users\\hp\\Anaconda3\\lib\\site-packages\\xarray\\coding\\times.py:113: SerializationWarning: Ambiguous reference date string: 1-01-01 00:00:00. The first value is assumed to be the year hence will be padded with zeros to remove the ambiguity (the padded reference date string is: 0001-01-01 00:00:00). To remove this message, remove the ambiguity by padding your reference date strings with zeros.\n",
      "  warnings.warn(warning_msg, SerializationWarning)\n"
     ]
    }
   ],
   "source": [
    "Data_sh=xr.open_dataset(\"H:/AgroMastermind/Specific_Humidity.nc\")"
   ]
  },
  {
   "cell_type": "code",
   "execution_count": 4,
   "metadata": {},
   "outputs": [],
   "source": [
    "Data_sh_monthly=Data_sh.resample(time='M').mean(dim='time')"
   ]
  },
  {
   "cell_type": "code",
   "execution_count": 11,
   "metadata": {},
   "outputs": [],
   "source": [
    "Data_sh_monthly_avg=Data_sh_monthly.groupby('time.month').mean()"
   ]
  },
  {
   "cell_type": "code",
   "execution_count": 14,
   "metadata": {},
   "outputs": [],
   "source": [
    "\n",
    "Data_sh_monthly_avg.shum.sel(lat=np.arange(10,20),lon=np.arange(70,80),method='nearest')\n",
    "Data_sh_monthly_avg.to_netcdf(\"humidity.nc\")"
   ]
  },
  {
   "cell_type": "code",
   "execution_count": 17,
   "metadata": {},
   "outputs": [
    {
     "data": {
      "text/html": [
       "<div><svg style=\"position: absolute; width: 0; height: 0; overflow: hidden\">\n",
       "<defs>\n",
       "<symbol id=\"icon-database\" viewBox=\"0 0 32 32\">\n",
       "<path d=\"M16 0c-8.837 0-16 2.239-16 5v4c0 2.761 7.163 5 16 5s16-2.239 16-5v-4c0-2.761-7.163-5-16-5z\"></path>\n",
       "<path d=\"M16 17c-8.837 0-16-2.239-16-5v6c0 2.761 7.163 5 16 5s16-2.239 16-5v-6c0 2.761-7.163 5-16 5z\"></path>\n",
       "<path d=\"M16 26c-8.837 0-16-2.239-16-5v6c0 2.761 7.163 5 16 5s16-2.239 16-5v-6c0 2.761-7.163 5-16 5z\"></path>\n",
       "</symbol>\n",
       "<symbol id=\"icon-file-text2\" viewBox=\"0 0 32 32\">\n",
       "<path d=\"M28.681 7.159c-0.694-0.947-1.662-2.053-2.724-3.116s-2.169-2.030-3.116-2.724c-1.612-1.182-2.393-1.319-2.841-1.319h-15.5c-1.378 0-2.5 1.121-2.5 2.5v27c0 1.378 1.122 2.5 2.5 2.5h23c1.378 0 2.5-1.122 2.5-2.5v-19.5c0-0.448-0.137-1.23-1.319-2.841zM24.543 5.457c0.959 0.959 1.712 1.825 2.268 2.543h-4.811v-4.811c0.718 0.556 1.584 1.309 2.543 2.268zM28 29.5c0 0.271-0.229 0.5-0.5 0.5h-23c-0.271 0-0.5-0.229-0.5-0.5v-27c0-0.271 0.229-0.5 0.5-0.5 0 0 15.499-0 15.5 0v7c0 0.552 0.448 1 1 1h7v19.5z\"></path>\n",
       "<path d=\"M23 26h-14c-0.552 0-1-0.448-1-1s0.448-1 1-1h14c0.552 0 1 0.448 1 1s-0.448 1-1 1z\"></path>\n",
       "<path d=\"M23 22h-14c-0.552 0-1-0.448-1-1s0.448-1 1-1h14c0.552 0 1 0.448 1 1s-0.448 1-1 1z\"></path>\n",
       "<path d=\"M23 18h-14c-0.552 0-1-0.448-1-1s0.448-1 1-1h14c0.552 0 1 0.448 1 1s-0.448 1-1 1z\"></path>\n",
       "</symbol>\n",
       "</defs>\n",
       "</svg>\n",
       "<style>/* CSS stylesheet for displaying xarray objects in jupyterlab.\n",
       " *\n",
       " */\n",
       "\n",
       ":root {\n",
       "  --xr-font-color0: var(--jp-content-font-color0, rgba(0, 0, 0, 1));\n",
       "  --xr-font-color2: var(--jp-content-font-color2, rgba(0, 0, 0, 0.54));\n",
       "  --xr-font-color3: var(--jp-content-font-color3, rgba(0, 0, 0, 0.38));\n",
       "  --xr-border-color: var(--jp-border-color2, #e0e0e0);\n",
       "  --xr-disabled-color: var(--jp-layout-color3, #bdbdbd);\n",
       "  --xr-background-color: var(--jp-layout-color0, white);\n",
       "  --xr-background-color-row-even: var(--jp-layout-color1, white);\n",
       "  --xr-background-color-row-odd: var(--jp-layout-color2, #eeeeee);\n",
       "}\n",
       "\n",
       "html[theme=dark],\n",
       "body.vscode-dark {\n",
       "  --xr-font-color0: rgba(255, 255, 255, 1);\n",
       "  --xr-font-color2: rgba(255, 255, 255, 0.54);\n",
       "  --xr-font-color3: rgba(255, 255, 255, 0.38);\n",
       "  --xr-border-color: #1F1F1F;\n",
       "  --xr-disabled-color: #515151;\n",
       "  --xr-background-color: #111111;\n",
       "  --xr-background-color-row-even: #111111;\n",
       "  --xr-background-color-row-odd: #313131;\n",
       "}\n",
       "\n",
       ".xr-wrap {\n",
       "  display: block;\n",
       "  min-width: 300px;\n",
       "  max-width: 700px;\n",
       "}\n",
       "\n",
       ".xr-text-repr-fallback {\n",
       "  /* fallback to plain text repr when CSS is not injected (untrusted notebook) */\n",
       "  display: none;\n",
       "}\n",
       "\n",
       ".xr-header {\n",
       "  padding-top: 6px;\n",
       "  padding-bottom: 6px;\n",
       "  margin-bottom: 4px;\n",
       "  border-bottom: solid 1px var(--xr-border-color);\n",
       "}\n",
       "\n",
       ".xr-header > div,\n",
       ".xr-header > ul {\n",
       "  display: inline;\n",
       "  margin-top: 0;\n",
       "  margin-bottom: 0;\n",
       "}\n",
       "\n",
       ".xr-obj-type,\n",
       ".xr-array-name {\n",
       "  margin-left: 2px;\n",
       "  margin-right: 10px;\n",
       "}\n",
       "\n",
       ".xr-obj-type {\n",
       "  color: var(--xr-font-color2);\n",
       "}\n",
       "\n",
       ".xr-sections {\n",
       "  padding-left: 0 !important;\n",
       "  display: grid;\n",
       "  grid-template-columns: 150px auto auto 1fr 20px 20px;\n",
       "}\n",
       "\n",
       ".xr-section-item {\n",
       "  display: contents;\n",
       "}\n",
       "\n",
       ".xr-section-item input {\n",
       "  display: none;\n",
       "}\n",
       "\n",
       ".xr-section-item input + label {\n",
       "  color: var(--xr-disabled-color);\n",
       "}\n",
       "\n",
       ".xr-section-item input:enabled + label {\n",
       "  cursor: pointer;\n",
       "  color: var(--xr-font-color2);\n",
       "}\n",
       "\n",
       ".xr-section-item input:enabled + label:hover {\n",
       "  color: var(--xr-font-color0);\n",
       "}\n",
       "\n",
       ".xr-section-summary {\n",
       "  grid-column: 1;\n",
       "  color: var(--xr-font-color2);\n",
       "  font-weight: 500;\n",
       "}\n",
       "\n",
       ".xr-section-summary > span {\n",
       "  display: inline-block;\n",
       "  padding-left: 0.5em;\n",
       "}\n",
       "\n",
       ".xr-section-summary-in:disabled + label {\n",
       "  color: var(--xr-font-color2);\n",
       "}\n",
       "\n",
       ".xr-section-summary-in + label:before {\n",
       "  display: inline-block;\n",
       "  content: '►';\n",
       "  font-size: 11px;\n",
       "  width: 15px;\n",
       "  text-align: center;\n",
       "}\n",
       "\n",
       ".xr-section-summary-in:disabled + label:before {\n",
       "  color: var(--xr-disabled-color);\n",
       "}\n",
       "\n",
       ".xr-section-summary-in:checked + label:before {\n",
       "  content: '▼';\n",
       "}\n",
       "\n",
       ".xr-section-summary-in:checked + label > span {\n",
       "  display: none;\n",
       "}\n",
       "\n",
       ".xr-section-summary,\n",
       ".xr-section-inline-details {\n",
       "  padding-top: 4px;\n",
       "  padding-bottom: 4px;\n",
       "}\n",
       "\n",
       ".xr-section-inline-details {\n",
       "  grid-column: 2 / -1;\n",
       "}\n",
       "\n",
       ".xr-section-details {\n",
       "  display: none;\n",
       "  grid-column: 1 / -1;\n",
       "  margin-bottom: 5px;\n",
       "}\n",
       "\n",
       ".xr-section-summary-in:checked ~ .xr-section-details {\n",
       "  display: contents;\n",
       "}\n",
       "\n",
       ".xr-array-wrap {\n",
       "  grid-column: 1 / -1;\n",
       "  display: grid;\n",
       "  grid-template-columns: 20px auto;\n",
       "}\n",
       "\n",
       ".xr-array-wrap > label {\n",
       "  grid-column: 1;\n",
       "  vertical-align: top;\n",
       "}\n",
       "\n",
       ".xr-preview {\n",
       "  color: var(--xr-font-color3);\n",
       "}\n",
       "\n",
       ".xr-array-preview,\n",
       ".xr-array-data {\n",
       "  padding: 0 5px !important;\n",
       "  grid-column: 2;\n",
       "}\n",
       "\n",
       ".xr-array-data,\n",
       ".xr-array-in:checked ~ .xr-array-preview {\n",
       "  display: none;\n",
       "}\n",
       "\n",
       ".xr-array-in:checked ~ .xr-array-data,\n",
       ".xr-array-preview {\n",
       "  display: inline-block;\n",
       "}\n",
       "\n",
       ".xr-dim-list {\n",
       "  display: inline-block !important;\n",
       "  list-style: none;\n",
       "  padding: 0 !important;\n",
       "  margin: 0;\n",
       "}\n",
       "\n",
       ".xr-dim-list li {\n",
       "  display: inline-block;\n",
       "  padding: 0;\n",
       "  margin: 0;\n",
       "}\n",
       "\n",
       ".xr-dim-list:before {\n",
       "  content: '(';\n",
       "}\n",
       "\n",
       ".xr-dim-list:after {\n",
       "  content: ')';\n",
       "}\n",
       "\n",
       ".xr-dim-list li:not(:last-child):after {\n",
       "  content: ',';\n",
       "  padding-right: 5px;\n",
       "}\n",
       "\n",
       ".xr-has-index {\n",
       "  font-weight: bold;\n",
       "}\n",
       "\n",
       ".xr-var-list,\n",
       ".xr-var-item {\n",
       "  display: contents;\n",
       "}\n",
       "\n",
       ".xr-var-item > div,\n",
       ".xr-var-item label,\n",
       ".xr-var-item > .xr-var-name span {\n",
       "  background-color: var(--xr-background-color-row-even);\n",
       "  margin-bottom: 0;\n",
       "}\n",
       "\n",
       ".xr-var-item > .xr-var-name:hover span {\n",
       "  padding-right: 5px;\n",
       "}\n",
       "\n",
       ".xr-var-list > li:nth-child(odd) > div,\n",
       ".xr-var-list > li:nth-child(odd) > label,\n",
       ".xr-var-list > li:nth-child(odd) > .xr-var-name span {\n",
       "  background-color: var(--xr-background-color-row-odd);\n",
       "}\n",
       "\n",
       ".xr-var-name {\n",
       "  grid-column: 1;\n",
       "}\n",
       "\n",
       ".xr-var-dims {\n",
       "  grid-column: 2;\n",
       "}\n",
       "\n",
       ".xr-var-dtype {\n",
       "  grid-column: 3;\n",
       "  text-align: right;\n",
       "  color: var(--xr-font-color2);\n",
       "}\n",
       "\n",
       ".xr-var-preview {\n",
       "  grid-column: 4;\n",
       "}\n",
       "\n",
       ".xr-var-name,\n",
       ".xr-var-dims,\n",
       ".xr-var-dtype,\n",
       ".xr-preview,\n",
       ".xr-attrs dt {\n",
       "  white-space: nowrap;\n",
       "  overflow: hidden;\n",
       "  text-overflow: ellipsis;\n",
       "  padding-right: 10px;\n",
       "}\n",
       "\n",
       ".xr-var-name:hover,\n",
       ".xr-var-dims:hover,\n",
       ".xr-var-dtype:hover,\n",
       ".xr-attrs dt:hover {\n",
       "  overflow: visible;\n",
       "  width: auto;\n",
       "  z-index: 1;\n",
       "}\n",
       "\n",
       ".xr-var-attrs,\n",
       ".xr-var-data {\n",
       "  display: none;\n",
       "  background-color: var(--xr-background-color) !important;\n",
       "  padding-bottom: 5px !important;\n",
       "}\n",
       "\n",
       ".xr-var-attrs-in:checked ~ .xr-var-attrs,\n",
       ".xr-var-data-in:checked ~ .xr-var-data {\n",
       "  display: block;\n",
       "}\n",
       "\n",
       ".xr-var-data > table {\n",
       "  float: right;\n",
       "}\n",
       "\n",
       ".xr-var-name span,\n",
       ".xr-var-data,\n",
       ".xr-attrs {\n",
       "  padding-left: 25px !important;\n",
       "}\n",
       "\n",
       ".xr-attrs,\n",
       ".xr-var-attrs,\n",
       ".xr-var-data {\n",
       "  grid-column: 1 / -1;\n",
       "}\n",
       "\n",
       "dl.xr-attrs {\n",
       "  padding: 0;\n",
       "  margin: 0;\n",
       "  display: grid;\n",
       "  grid-template-columns: 125px auto;\n",
       "}\n",
       "\n",
       ".xr-attrs dt,\n",
       ".xr-attrs dd {\n",
       "  padding: 0;\n",
       "  margin: 0;\n",
       "  float: left;\n",
       "  padding-right: 10px;\n",
       "  width: auto;\n",
       "}\n",
       "\n",
       ".xr-attrs dt {\n",
       "  font-weight: normal;\n",
       "  grid-column: 1;\n",
       "}\n",
       "\n",
       ".xr-attrs dt:hover span {\n",
       "  display: inline-block;\n",
       "  background: var(--xr-background-color);\n",
       "  padding-right: 10px;\n",
       "}\n",
       "\n",
       ".xr-attrs dd {\n",
       "  grid-column: 2;\n",
       "  white-space: pre-wrap;\n",
       "  word-break: break-all;\n",
       "}\n",
       "\n",
       ".xr-icon-database,\n",
       ".xr-icon-file-text2 {\n",
       "  display: inline-block;\n",
       "  vertical-align: middle;\n",
       "  width: 1em;\n",
       "  height: 1.5em !important;\n",
       "  stroke-width: 0;\n",
       "  stroke: currentColor;\n",
       "  fill: currentColor;\n",
       "}\n",
       "</style><pre class='xr-text-repr-fallback'>&lt;xarray.Dataset&gt;\n",
       "Dimensions:  (lat: 73, lon: 144, month: 12)\n",
       "Coordinates:\n",
       "  * lon      (lon) float32 0.0 2.5 5.0 7.5 10.0 ... 350.0 352.5 355.0 357.5\n",
       "  * lat      (lat) float32 90.0 87.5 85.0 82.5 80.0 ... -82.5 -85.0 -87.5 -90.0\n",
       "  * month    (month) int64 1 2 3 4 5 6 7 8 9 10 11 12\n",
       "Data variables:\n",
       "    shum     (month, lat, lon) float32 0.0002889 0.0002889 ... 0.0009136</pre><div class='xr-wrap' hidden><div class='xr-header'><div class='xr-obj-type'>xarray.Dataset</div></div><ul class='xr-sections'><li class='xr-section-item'><input id='section-e9b4a012-5541-4dba-8767-f786ce5e38da' class='xr-section-summary-in' type='checkbox' disabled ><label for='section-e9b4a012-5541-4dba-8767-f786ce5e38da' class='xr-section-summary'  title='Expand/collapse section'>Dimensions:</label><div class='xr-section-inline-details'><ul class='xr-dim-list'><li><span class='xr-has-index'>lat</span>: 73</li><li><span class='xr-has-index'>lon</span>: 144</li><li><span class='xr-has-index'>month</span>: 12</li></ul></div><div class='xr-section-details'></div></li><li class='xr-section-item'><input id='section-c58d553e-1c8f-4d37-bd5b-fd3bed50b0a1' class='xr-section-summary-in' type='checkbox'  checked><label for='section-c58d553e-1c8f-4d37-bd5b-fd3bed50b0a1' class='xr-section-summary' >Coordinates: <span>(3)</span></label><div class='xr-section-inline-details'></div><div class='xr-section-details'><ul class='xr-var-list'><li class='xr-var-item'><div class='xr-var-name'><span class='xr-has-index'>lon</span></div><div class='xr-var-dims'>(lon)</div><div class='xr-var-dtype'>float32</div><div class='xr-var-preview xr-preview'>0.0 2.5 5.0 ... 352.5 355.0 357.5</div><input id='attrs-08a9e557-fe7b-464e-a080-43dd390c3830' class='xr-var-attrs-in' type='checkbox' ><label for='attrs-08a9e557-fe7b-464e-a080-43dd390c3830' title='Show/Hide attributes'><svg class='icon xr-icon-file-text2'><use xlink:href='#icon-file-text2'></use></svg></label><input id='data-248864d2-017c-446f-8ef0-cfe0cbcb3992' class='xr-var-data-in' type='checkbox'><label for='data-248864d2-017c-446f-8ef0-cfe0cbcb3992' title='Show/Hide data repr'><svg class='icon xr-icon-database'><use xlink:href='#icon-database'></use></svg></label><div class='xr-var-attrs'><dl class='xr-attrs'><dt><span>standard_name :</span></dt><dd>longitude</dd><dt><span>long_name :</span></dt><dd>Longitude</dd><dt><span>units :</span></dt><dd>degrees_east</dd><dt><span>axis :</span></dt><dd>X</dd></dl></div><div class='xr-var-data'><pre>array([  0. ,   2.5,   5. ,   7.5,  10. ,  12.5,  15. ,  17.5,  20. ,  22.5,\n",
       "        25. ,  27.5,  30. ,  32.5,  35. ,  37.5,  40. ,  42.5,  45. ,  47.5,\n",
       "        50. ,  52.5,  55. ,  57.5,  60. ,  62.5,  65. ,  67.5,  70. ,  72.5,\n",
       "        75. ,  77.5,  80. ,  82.5,  85. ,  87.5,  90. ,  92.5,  95. ,  97.5,\n",
       "       100. , 102.5, 105. , 107.5, 110. , 112.5, 115. , 117.5, 120. , 122.5,\n",
       "       125. , 127.5, 130. , 132.5, 135. , 137.5, 140. , 142.5, 145. , 147.5,\n",
       "       150. , 152.5, 155. , 157.5, 160. , 162.5, 165. , 167.5, 170. , 172.5,\n",
       "       175. , 177.5, 180. , 182.5, 185. , 187.5, 190. , 192.5, 195. , 197.5,\n",
       "       200. , 202.5, 205. , 207.5, 210. , 212.5, 215. , 217.5, 220. , 222.5,\n",
       "       225. , 227.5, 230. , 232.5, 235. , 237.5, 240. , 242.5, 245. , 247.5,\n",
       "       250. , 252.5, 255. , 257.5, 260. , 262.5, 265. , 267.5, 270. , 272.5,\n",
       "       275. , 277.5, 280. , 282.5, 285. , 287.5, 290. , 292.5, 295. , 297.5,\n",
       "       300. , 302.5, 305. , 307.5, 310. , 312.5, 315. , 317.5, 320. , 322.5,\n",
       "       325. , 327.5, 330. , 332.5, 335. , 337.5, 340. , 342.5, 345. , 347.5,\n",
       "       350. , 352.5, 355. , 357.5], dtype=float32)</pre></div></li><li class='xr-var-item'><div class='xr-var-name'><span class='xr-has-index'>lat</span></div><div class='xr-var-dims'>(lat)</div><div class='xr-var-dtype'>float32</div><div class='xr-var-preview xr-preview'>90.0 87.5 85.0 ... -87.5 -90.0</div><input id='attrs-626ac91b-47c6-4777-a524-77019a462613' class='xr-var-attrs-in' type='checkbox' ><label for='attrs-626ac91b-47c6-4777-a524-77019a462613' title='Show/Hide attributes'><svg class='icon xr-icon-file-text2'><use xlink:href='#icon-file-text2'></use></svg></label><input id='data-050e329c-9413-4a7d-be23-b530d1cf7aaf' class='xr-var-data-in' type='checkbox'><label for='data-050e329c-9413-4a7d-be23-b530d1cf7aaf' title='Show/Hide data repr'><svg class='icon xr-icon-database'><use xlink:href='#icon-database'></use></svg></label><div class='xr-var-attrs'><dl class='xr-attrs'><dt><span>standard_name :</span></dt><dd>latitude</dd><dt><span>long_name :</span></dt><dd>Latitude</dd><dt><span>units :</span></dt><dd>degrees_north</dd><dt><span>axis :</span></dt><dd>Y</dd></dl></div><div class='xr-var-data'><pre>array([ 90. ,  87.5,  85. ,  82.5,  80. ,  77.5,  75. ,  72.5,  70. ,  67.5,\n",
       "        65. ,  62.5,  60. ,  57.5,  55. ,  52.5,  50. ,  47.5,  45. ,  42.5,\n",
       "        40. ,  37.5,  35. ,  32.5,  30. ,  27.5,  25. ,  22.5,  20. ,  17.5,\n",
       "        15. ,  12.5,  10. ,   7.5,   5. ,   2.5,   0. ,  -2.5,  -5. ,  -7.5,\n",
       "       -10. , -12.5, -15. , -17.5, -20. , -22.5, -25. , -27.5, -30. , -32.5,\n",
       "       -35. , -37.5, -40. , -42.5, -45. , -47.5, -50. , -52.5, -55. , -57.5,\n",
       "       -60. , -62.5, -65. , -67.5, -70. , -72.5, -75. , -77.5, -80. , -82.5,\n",
       "       -85. , -87.5, -90. ], dtype=float32)</pre></div></li><li class='xr-var-item'><div class='xr-var-name'><span class='xr-has-index'>month</span></div><div class='xr-var-dims'>(month)</div><div class='xr-var-dtype'>int64</div><div class='xr-var-preview xr-preview'>1 2 3 4 5 6 7 8 9 10 11 12</div><input id='attrs-f244eb62-b670-45ad-b272-13889c802e65' class='xr-var-attrs-in' type='checkbox' disabled><label for='attrs-f244eb62-b670-45ad-b272-13889c802e65' title='Show/Hide attributes'><svg class='icon xr-icon-file-text2'><use xlink:href='#icon-file-text2'></use></svg></label><input id='data-54fcd2d7-d563-43e6-87b4-a80c5bd5558a' class='xr-var-data-in' type='checkbox'><label for='data-54fcd2d7-d563-43e6-87b4-a80c5bd5558a' title='Show/Hide data repr'><svg class='icon xr-icon-database'><use xlink:href='#icon-database'></use></svg></label><div class='xr-var-attrs'><dl class='xr-attrs'></dl></div><div class='xr-var-data'><pre>array([ 1,  2,  3,  4,  5,  6,  7,  8,  9, 10, 11, 12], dtype=int64)</pre></div></li></ul></div></li><li class='xr-section-item'><input id='section-e69ab6bf-ce73-479e-9527-f6ff2ceec6a6' class='xr-section-summary-in' type='checkbox'  checked><label for='section-e69ab6bf-ce73-479e-9527-f6ff2ceec6a6' class='xr-section-summary' >Data variables: <span>(1)</span></label><div class='xr-section-inline-details'></div><div class='xr-section-details'><ul class='xr-var-list'><li class='xr-var-item'><div class='xr-var-name'><span>shum</span></div><div class='xr-var-dims'>(month, lat, lon)</div><div class='xr-var-dtype'>float32</div><div class='xr-var-preview xr-preview'>0.0002889 0.0002889 ... 0.0009136</div><input id='attrs-33689a52-e962-409e-96ed-4937b3984627' class='xr-var-attrs-in' type='checkbox' disabled><label for='attrs-33689a52-e962-409e-96ed-4937b3984627' title='Show/Hide attributes'><svg class='icon xr-icon-file-text2'><use xlink:href='#icon-file-text2'></use></svg></label><input id='data-0ddfcf63-1ac6-4a38-a1bc-ab9e56d261fa' class='xr-var-data-in' type='checkbox'><label for='data-0ddfcf63-1ac6-4a38-a1bc-ab9e56d261fa' title='Show/Hide data repr'><svg class='icon xr-icon-database'><use xlink:href='#icon-database'></use></svg></label><div class='xr-var-attrs'><dl class='xr-attrs'></dl></div><div class='xr-var-data'><pre>array([[[2.8890208e-04, 2.8890208e-04, 2.8890208e-04, ...,\n",
       "         2.8890208e-04, 2.8890208e-04, 2.8890208e-04],\n",
       "        [2.4266948e-04, 2.4207302e-04, 2.4156805e-04, ...,\n",
       "         2.4490411e-04, 2.4411007e-04, 2.4335118e-04],\n",
       "        [2.9042640e-04, 2.9726006e-04, 3.0404900e-04, ...,\n",
       "         2.7097217e-04, 2.7717958e-04, 2.8371339e-04],\n",
       "        ...,\n",
       "        [1.0749898e-03, 1.1385834e-03, 1.1960907e-03, ...,\n",
       "         8.7599782e-04, 9.4056595e-04, 1.0079447e-03],\n",
       "        [9.9807745e-04, 1.0065106e-03, 1.0149869e-03, ...,\n",
       "         9.7508059e-04, 9.8208070e-04, 9.8985445e-04],\n",
       "        [9.4984396e-04, 9.4984396e-04, 9.4984396e-04, ...,\n",
       "         9.4984396e-04, 9.4984396e-04, 9.4984396e-04]],\n",
       "\n",
       "       [[2.6825155e-04, 2.6825155e-04, 2.6825155e-04, ...,\n",
       "         2.6825155e-04, 2.6825155e-04, 2.6825155e-04],\n",
       "        [2.2700854e-04, 2.2667921e-04, 2.2643449e-04, ...,\n",
       "         2.2849534e-04, 2.2794260e-04, 2.2745531e-04],\n",
       "        [2.8057222e-04, 2.8768406e-04, 2.9483790e-04, ...,\n",
       "         2.6049939e-04, 2.6688018e-04, 2.7358969e-04],\n",
       "...\n",
       "        [4.3493393e-04, 4.8061408e-04, 5.2120397e-04, ...,\n",
       "         2.9963627e-04, 3.4141456e-04, 3.8749754e-04],\n",
       "        [4.2054354e-04, 4.2692802e-04, 4.3342746e-04, ...,\n",
       "         4.0406772e-04, 4.0889595e-04, 4.1445662e-04],\n",
       "        [4.7826493e-04, 4.7826493e-04, 4.7826493e-04, ...,\n",
       "         4.7826493e-04, 4.7826493e-04, 4.7826493e-04]],\n",
       "\n",
       "       [[3.0571886e-04, 3.0571886e-04, 3.0571886e-04, ...,\n",
       "         3.0571886e-04, 3.0571886e-04, 3.0571886e-04],\n",
       "        [2.6052984e-04, 2.5986528e-04, 2.5934220e-04, ...,\n",
       "         2.6316129e-04, 2.6223899e-04, 2.6132888e-04],\n",
       "        [3.0842586e-04, 3.1540089e-04, 3.2249195e-04, ...,\n",
       "         2.8952691e-04, 2.9538525e-04, 3.0174313e-04],\n",
       "        ...,\n",
       "        [1.0577741e-03, 1.1241691e-03, 1.1847893e-03, ...,\n",
       "         8.5225253e-04, 9.1892650e-04, 9.8838680e-04],\n",
       "        [9.5531269e-04, 9.6442184e-04, 9.7366265e-04, ...,\n",
       "         9.3115645e-04, 9.3834969e-04, 9.4655890e-04],\n",
       "        [9.1360969e-04, 9.1360969e-04, 9.1360969e-04, ...,\n",
       "         9.1360969e-04, 9.1360969e-04, 9.1360969e-04]]], dtype=float32)</pre></div></li></ul></div></li><li class='xr-section-item'><input id='section-9e54bff6-6966-4459-9ada-7ef59fc1cd7d' class='xr-section-summary-in' type='checkbox' disabled ><label for='section-9e54bff6-6966-4459-9ada-7ef59fc1cd7d' class='xr-section-summary'  title='Expand/collapse section'>Attributes: <span>(0)</span></label><div class='xr-section-inline-details'></div><div class='xr-section-details'><dl class='xr-attrs'></dl></div></li></ul></div></div>"
      ],
      "text/plain": [
       "<xarray.Dataset>\n",
       "Dimensions:  (lat: 73, lon: 144, month: 12)\n",
       "Coordinates:\n",
       "  * lon      (lon) float32 0.0 2.5 5.0 7.5 10.0 ... 350.0 352.5 355.0 357.5\n",
       "  * lat      (lat) float32 90.0 87.5 85.0 82.5 80.0 ... -82.5 -85.0 -87.5 -90.0\n",
       "  * month    (month) int64 1 2 3 4 5 6 7 8 9 10 11 12\n",
       "Data variables:\n",
       "    shum     (month, lat, lon) float32 0.0002889 0.0002889 ... 0.0009136"
      ]
     },
     "execution_count": 17,
     "metadata": {},
     "output_type": "execute_result"
    }
   ],
   "source": [
    "data_hum=xr.open_dataset(\"humidity.nc\")\n",
    "data_hum_fin=data_hum.mean(dim='level')\n",
    "data_hum_fin"
   ]
  },
  {
   "cell_type": "code",
   "execution_count": 20,
   "metadata": {},
   "outputs": [
    {
     "name": "stderr",
     "output_type": "stream",
     "text": [
      "C:\\Users\\hp\\Anaconda3\\lib\\site-packages\\xarray\\coding\\times.py:113: SerializationWarning: Ambiguous reference date string: 1-01-01 00:00:00. The first value is assumed to be the year hence will be padded with zeros to remove the ambiguity (the padded reference date string is: 0001-01-01 00:00:00). To remove this message, remove the ambiguity by padding your reference date strings with zeros.\n",
      "  warnings.warn(warning_msg, SerializationWarning)\n"
     ]
    }
   ],
   "source": [
    "Data_sm=xr.open_dataset(\"H:/AgroMastermind/Soil_Moisture.nc\")"
   ]
  },
  {
   "cell_type": "code",
   "execution_count": 21,
   "metadata": {},
   "outputs": [],
   "source": [
    "Data_sm_monthly=Data_sm.resample(time='M').mean(dim='time')"
   ]
  },
  {
   "cell_type": "code",
   "execution_count": 22,
   "metadata": {},
   "outputs": [],
   "source": [
    "Data_sm_monthly_avg=Data_sm_monthly.groupby('time.month').mean()"
   ]
  },
  {
   "cell_type": "code",
   "execution_count": 23,
   "metadata": {},
   "outputs": [],
   "source": [
    "Data_sm_monthly_avg.soilw.sel(lat=np.arange(10,20),lon=np.arange(70,80),method='nearest')\n",
    "Data_sm_monthly_avg.to_netcdf(\"soilmoist.nc\")"
   ]
  },
  {
   "cell_type": "code",
   "execution_count": 25,
   "metadata": {},
   "outputs": [],
   "source": [
    "data_soil=xr.open_dataset(\"soilmoist.nc\")\n"
   ]
  },
  {
   "cell_type": "code",
   "execution_count": 24,
   "metadata": {},
   "outputs": [
    {
     "name": "stderr",
     "output_type": "stream",
     "text": [
      "C:\\Users\\hp\\Anaconda3\\lib\\site-packages\\xarray\\coding\\times.py:113: SerializationWarning: Ambiguous reference date string: 1-1-1 00:00:0.0. The first value is assumed to be the year hence will be padded with zeros to remove the ambiguity (the padded reference date string is: 0001-1-1 00:00:0.0). To remove this message, remove the ambiguity by padding your reference date strings with zeros.\n",
      "  warnings.warn(warning_msg, SerializationWarning)\n"
     ]
    }
   ],
   "source": [
    "Data_slope=xr.open_dataset(\"H:/AgroMastermind/Geospatial_Height.nc\")"
   ]
  },
  {
   "cell_type": "code",
   "execution_count": 25,
   "metadata": {},
   "outputs": [],
   "source": [
    "Data_gh_monthly_avg=Data_slope.groupby('time.month').mean()\n"
   ]
  },
  {
   "cell_type": "code",
   "execution_count": 35,
   "metadata": {},
   "outputs": [
    {
     "data": {
      "text/plain": [
       "5.731818199157715"
      ]
     },
     "execution_count": 35,
     "metadata": {},
     "output_type": "execute_result"
    }
   ],
   "source": [
    "mon=3\n",
    "data_rain=xr.open_dataset(\"Rainy.nc\")\n",
    "r=data_rain.precip.sel(lat=loc.latitude,lon=loc.longitude,month=mon,method=\"nearest\")\n",
    "raind=float(r)\n",
    "raind"
   ]
  },
  {
   "cell_type": "code",
   "execution_count": 41,
   "metadata": {},
   "outputs": [
    {
     "data": {
      "text/plain": [
       "32.802024841308594"
      ]
     },
     "execution_count": 41,
     "metadata": {},
     "output_type": "execute_result"
    }
   ],
   "source": [
    "datatemp=xr.open_dataset(\"Temp.nc\")\n",
    "t=datatemp.temp.sel(lat=\"13.3212873\",lon=\"75.7723387\",month=3,method=\"nearest\")\n",
    "tempd=float(t)\n",
    "tempd"
   ]
  },
  {
   "cell_type": "code",
   "execution_count": 19,
   "metadata": {},
   "outputs": [
    {
     "data": {
      "text/plain": [
       "0.0057518938556313515"
      ]
     },
     "execution_count": 19,
     "metadata": {},
     "output_type": "execute_result"
    }
   ],
   "source": [
    "h=data_hum_fin.shum.sel(lat=\"13.3212873\",lon=\"75.7723387\",month=3,method='nearest')\n",
    "humd=float(h)\n",
    "humd"
   ]
  },
  {
   "cell_type": "code",
   "execution_count": 26,
   "metadata": {},
   "outputs": [
    {
     "data": {
      "text/plain": [
       "nan"
      ]
     },
     "execution_count": 26,
     "metadata": {},
     "output_type": "execute_result"
    }
   ],
   "source": [
    "s=data_soil.soilw.sel(lat=\"13.3212873\",lon=\"75.7723387\",month=3,method='nearest').mean()\n",
    "smd=float(s)\n",
    "smd"
   ]
  },
  {
   "cell_type": "code",
   "execution_count": 36,
   "metadata": {},
   "outputs": [],
   "source": [
    "sl=Data_gh_monthly_avg.hgt.sel(lat=\"13.3212873\",lon=\"75.7723387\",method='nearest')\n",
    "sloped=float(sl)"
   ]
  },
  {
   "cell_type": "code",
   "execution_count": 31,
   "metadata": {},
   "outputs": [],
   "source": [
    "#fetch values from dataset wrt lat,lon,month\n",
    "#fetching values from csv\n",
    "#from flask import Flask\n",
    "#from flask import request\n",
    "#if request.method=='POST':\n",
    "#    city=request.form['city']\n",
    "#    month=request.form['month']\n",
    "res=list()\n",
    "res1=list()\n",
    "from csv import reader\n",
    "with open('crops_projects.csv', 'r') as crop:\n",
    "    c = reader(crop)\n",
    "    for row in c:\n",
    "        nr=int(row[1])\n",
    "        xr=int(row[2])\n",
    "        nt=int(row[3])\n",
    "        xt=int(row[4])\n",
    "        nh=float(row[5])\n",
    "        xh=float(row[6])\n",
    "        ns=float(row[7])\n",
    "        xs=float(row[8])\n",
    "        nsl=float(row[9])\n",
    "        xsl=float(row[10])\n",
    "        if row[11]=='5-3-0-4':\n",
    "            if raind>=nr and raind<=xr:\n",
    "                if smd>=ns and smd<=xs:\n",
    "                    res.append(row[0])\n",
    "                elif tempd>=nt and tempd<=xt:\n",
    "                    res1.append(row[0])\n",
    "        elif row[11]=='5-4-0-3':\n",
    "            if raind>=nr and raind<=xr:\n",
    "                if tempd>=nt and tempd<=xt:\n",
    "                    res.append(row[0])\n",
    "                elif smd>=ns and smd<=xs:\n",
    "                    res1.append(row[0])\n",
    "        elif row[11]=='3-5-0-4':\n",
    "            if tempd>=nt and tempd<=xt:\n",
    "                if smd>=ns and smd<=xs:\n",
    "                    res.append(row[0])\n",
    "                elif raind>=nr and raind<=xr:\n",
    "                    res1.append(row[0])\n",
    "        elif row[11]=='4-5-0-3':\n",
    "            if tempd>=nt and tempd<=xt:\n",
    "                if raind>=nr and raind<=xr:\n",
    "                    res.append(row[0])\n",
    "                elif smd>=ns and smd<=xs:\n",
    "                    res1.append(row[0])\n",
    "        elif row[11]=='4-5-3-0':\n",
    "            if tempd>=nt and tempd<=xt:\n",
    "                if raind>=nr and raind<=xr:\n",
    "                    res.append(row[0])\n",
    "                elif humd>=nh and humd<=xh:\n",
    "                    res1.append(row[0])\n",
    "        elif row[11]=='5-3-4-0':\n",
    "            if raind>=nr and raind<=xr:\n",
    "                if humd>=nh and humd<=xh:\n",
    "                    res.append(row[0])\n",
    "                elif tempd>=nt and tempd<=xt:\n",
    "                    res1.append(row[0])\n",
    "        elif row[11]=='4-3-5-0':\n",
    "            if humd>=nh and humd<=xh:\n",
    "                if raind>=nr and raind<=xr:\n",
    "                    res.append(row[0])\n",
    "                elif tempd>=nt and tempd<=xt:\n",
    "                    res1.append(row[0])\n",
    "        elif row[11]=='5-4-3-0':\n",
    "            if raind>=nr and raind<=xr:\n",
    "                if tempd>=nt and tempd<=xt:\n",
    "                    res.append(row[0])\n",
    "                elif humd>=nh and humd<=xh:\n",
    "                    res1.append(row[0])\n",
    "        elif row[11]=='3-5-4-0':\n",
    "            if tempd>=nt and tempd<=xt:\n",
    "                if humd>=nh and humd<=xh:\n",
    "                    res.append(row[0])\n",
    "                elif raind>=nr and raind<=xr:\n",
    "                    res1.append(row[0])\n",
    "        elif row[11]=='3-4-0-0-5':\n",
    "            if sloped>=nsl and sloped<=xsl:\n",
    "                if tempd>=nt and tempd<=xt:\n",
    "                    res.append(row[0])\n",
    "                elif raind>=nr and raind<=xr:\n",
    "                    res1.append(row[0])"
   ]
  },
  {
   "cell_type": "code",
   "execution_count": 32,
   "metadata": {},
   "outputs": [
    {
     "name": "stdout",
     "output_type": "stream",
     "text": [
      "['tea', 'groundnut']\n"
     ]
    }
   ],
   "source": [
    "if len(res)>0:\n",
    "    print(res)\n",
    "else:\n",
    "    print(res1)\n",
    "\n"
   ]
  },
  {
   "cell_type": "code",
   "execution_count": null,
   "metadata": {},
   "outputs": [],
   "source": [
    "#fetch values from dataset wrt lat,lon,month\n",
    "#fetching values from csv\n",
    "#from flask import Flask\n",
    "#from flask import request\n",
    "#if request.method=='POST':\n",
    "#    city=request.form['city']\n",
    "#    month=request.form['month']\n",
    "res=list()\n",
    "from csv import reader\n",
    "with open('crops_projects.csv', 'r') as crop:\n",
    "    c = reader(crop)\n",
    "    for row in c:\n",
    "        nr=int(row[1])\n",
    "        xr=int(row[2])\n",
    "        nt=int(row[3])\n",
    "        xt=int(row[4])\n",
    "        nh=float(row[5])\n",
    "        xh=float(row[6])\n",
    "        ns=float(row[7])\n",
    "        xs=float(row[8])\n",
    "        if row[9]=='5-3-0-4':\n",
    "            if raind>=nr and raind<=xr:\n",
    "                if smd>=ns and smd<=xs:\n",
    "                    if tempd>=nt and tempd<=xt:\n",
    "                        res.append(row[0])\n",
    "        elif row[9]=='5-4-0-3':\n",
    "            if raind>=nr and raind<=xr:\n",
    "                if tempd>=nt and tempd<=xt:\n",
    "                    if smd>=ns and smd<=xs:\n",
    "                        res.append(row[0])\n",
    "        elif row[9]=='3-5-0-4':\n",
    "            if tempd>=nt and tempd<=xt:\n",
    "                if smd>=ns and smd<=xs:\n",
    "                    if raind>=nr and raind<=xr:\n",
    "                        res.append(row[0])\n",
    "        elif row[9]=='4-5-0-3':\n",
    "            if tempd>=nt and tempd<=xt:\n",
    "                if raind>=nr and raind<=xr:\n",
    "                    if smd>=ns and smd<=xs:\n",
    "                        res.append(row[0])\n",
    "        elif row[9]=='4-5-3-0':\n",
    "            if tempd>=nt and tempd<=xt:\n",
    "                if raind>=nr and raind<=xr:\n",
    "                    if humd>=nh and humd<=xh:\n",
    "                        res.append(row[0])\n",
    "        elif row[9]=='5-3-4-0':\n",
    "            if raind>=nr and raind<=xr:\n",
    "                if humd>=nh and humd<=xh:\n",
    "                    if tempd>=nt and tempd<=xt:\n",
    "                        res.append(row[0])\n",
    "        elif row[9]=='4-3-5-0':\n",
    "            if humd>=nh and humd<=xh:\n",
    "                if raind>=nr and raind<=xr:\n",
    "                    if tempd>=nt and tempd<=xt:\n",
    "                        res.append(row[0])\n",
    "        elif row[9]=='5-4-3-0':\n",
    "            if raind>=nr and raind<=xr:\n",
    "                if tempd>=nt and tempd<=xt:\n",
    "                    if humd>=nh and humd<=xh:\n",
    "                        res.append(row[0])\n",
    "        elif row[9]=='3-5-4-0':\n",
    "            if tempd>=nt and tempd<=xt:\n",
    "                if humd>=nh and humd<=xh:\n",
    "                    if raind>=nr and raind<=xr:\n",
    "                        res.append(row[0])"
   ]
  }
 ],
 "metadata": {
  "kernelspec": {
   "display_name": "Python 3",
   "language": "python",
   "name": "python3"
  },
  "language_info": {
   "codemirror_mode": {
    "name": "ipython",
    "version": 3
   },
   "file_extension": ".py",
   "mimetype": "text/x-python",
   "name": "python",
   "nbconvert_exporter": "python",
   "pygments_lexer": "ipython3",
   "version": "3.7.4"
  }
 },
 "nbformat": 4,
 "nbformat_minor": 4
}
